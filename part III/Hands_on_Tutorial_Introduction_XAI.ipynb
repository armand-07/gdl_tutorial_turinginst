{
 "cells": [
  {
   "cell_type": "markdown",
   "metadata": {
    "id": "VN5aDSRS0PPk"
   },
   "source": [
    "# Hands-on Tutorial on XAI (Introduction)\n",
    "### Machine Learning and Dynamical Systems Seminar hosted by the Alan Turing Institute\n",
    "\n",
    "[Link](https://github.com/steveazzolin/gdl_tutorial_turinginst) to online material"
   ]
  },
  {
   "cell_type": "markdown",
   "metadata": {
    "id": "ro6CRm-B27R7"
   },
   "source": [
    "![](./SCM_XAITutorial.png)\n",
    "\n",
    "Given the Structural Causal Model defined above, we will sample some data from the underlying distribution and train two ML models with the goal of inspecting their behaviour under environment shifts. Then, by inspecting the learned weights, we try to judge whether the model learned the expected decision patterns"
   ]
  },
  {
   "cell_type": "code",
   "execution_count": 1,
   "metadata": {
    "id": "YhuCZ17MMeuU"
   },
   "outputs": [],
   "source": [
    "import numpy as np\n",
    "from sklearn.linear_model import LogisticRegression\n",
    "from sklearn.neural_network import MLPClassifier"
   ]
  },
  {
   "cell_type": "code",
   "execution_count": 2,
   "metadata": {
    "id": "eGEJa3y_RmOg"
   },
   "outputs": [],
   "source": [
    "def create_data_env(n_samples, mu_1, dev_2, mu_3):\n",
    "  x1 = np.random.randn(n_samples, 1) + mu_1\n",
    "  y = x1 >= mu_1\n",
    "  x2 = y + np.random.randn(n_samples, 1) * dev_2\n",
    "  x3 = np.random.randn(n_samples, 1) + mu_3\n",
    "\n",
    "  X = np.concatenate([x1,x2,x3], axis=-1)\n",
    "  y = np.squeeze(y)\n",
    "  return X, y"
   ]
  },
  {
   "cell_type": "markdown",
   "metadata": {
    "id": "FRiUxECz4elk"
   },
   "source": [
    "Create data from 3 different environments"
   ]
  },
  {
   "cell_type": "code",
   "execution_count": 9,
   "metadata": {
    "colab": {
     "base_uri": "https://localhost:8080/"
    },
    "id": "SFDcB5J2Pk0M",
    "outputId": "23860320-9f8b-4e7d-bd45-485577ccaea0"
   },
   "outputs": [
    {
     "name": "stdout",
     "output_type": "stream",
     "text": [
      "(1000, 3) (1000,)\n"
     ]
    }
   ],
   "source": [
    "n_samples = 1000\n",
    "mu_1 = 5\n",
    "mu_3 = 2.5\n",
    "dev_2_env_1 = 0.1\n",
    "dev_2_env_2 = 1\n",
    "dev_2_env_3 = 10\n",
    "\n",
    "X, y = {}, {}\n",
    "\n",
    "X_env, y_env = create_data_env(n_samples, mu_1, dev_2_env_1, mu_3)\n",
    "X[\"env_1\"] = X_env\n",
    "y[\"env_1\"] = y_env\n",
    "\n",
    "X_env, y_env = create_data_env(n_samples, mu_1, dev_2_env_2, mu_3)\n",
    "X[\"env_2\"] = X_env\n",
    "y[\"env_2\"] = y_env\n",
    "\n",
    "X_env, y_env = create_data_env(n_samples, mu_1, dev_2_env_3, mu_3)\n",
    "X[\"env_3\"] = X_env\n",
    "y[\"env_3\"] = y_env\n",
    "\n",
    "\n",
    "print(X[\"env_1\"].shape, y[\"env_1\"].shape)"
   ]
  },
  {
   "cell_type": "markdown",
   "metadata": {
    "id": "5CgmVBWR4h70"
   },
   "source": [
    "Fit a Simple **LogisticRegression** on the first environment"
   ]
  },
  {
   "cell_type": "code",
   "execution_count": 10,
   "metadata": {
    "colab": {
     "base_uri": "https://localhost:8080/"
    },
    "id": "tdWKwnWUQMEp",
    "outputId": "17f739db-a7e7-4f9b-a429-830d9f1c1cc7"
   },
   "outputs": [
    {
     "name": "stdout",
     "output_type": "stream",
     "text": [
      "Accuracy of the model on env 1 =  1.0\n"
     ]
    }
   ],
   "source": [
    "clf = LogisticRegression(random_state=42).fit(X[\"env_1\"], y[\"env_1\"])\n",
    "preds = clf.predict(X[\"env_1\"])\n",
    "acc = clf.score(X[\"env_1\"], y[\"env_1\"])\n",
    "print(\"Accuracy of the model on env 1 = \", acc)"
   ]
  },
  {
   "cell_type": "markdown",
   "metadata": {
    "id": "yqgVdKQn4qOM"
   },
   "source": [
    "Does it generalize to the other environments?"
   ]
  },
  {
   "cell_type": "code",
   "execution_count": 12,
   "metadata": {
    "colab": {
     "base_uri": "https://localhost:8080/"
    },
    "id": "ELZwsqcnSwHQ",
    "outputId": "f9cfbee0-40d3-47a6-bc2f-2887e7b8a245"
   },
   "outputs": [
    {
     "name": "stdout",
     "output_type": "stream",
     "text": [
      "Accuracy of the model on env 2 =  0.823\n",
      "Accuracy of the model on env 3 =  0.547\n"
     ]
    }
   ],
   "source": [
    "acc = clf.score(X[\"env_2\"], y[\"env_2\"])\n",
    "print(\"Accuracy of the model on env 2 = \", acc)\n",
    "\n",
    "acc = clf.score(X[\"env_3\"], y[\"env_3\"])\n",
    "print(\"Accuracy of the model on env 3 = \", acc)"
   ]
  },
  {
   "cell_type": "markdown",
   "metadata": {
    "id": "cMJdyjMn4t8d"
   },
   "source": [
    "Why? Can we inspect what it has learned?\n",
    "The **LogisticRegression** is defined as:\n",
    "\n",
    "$\\hat{y} = \\sigma(w_1x_1 + w_2x_2 + w_3x_3$)\n",
    "\n",
    "So we can easily inspect the individual weights"
   ]
  },
  {
   "cell_type": "code",
   "execution_count": 6,
   "metadata": {
    "colab": {
     "base_uri": "https://localhost:8080/"
    },
    "id": "Vv9s5SJXR7KR",
    "outputId": "a04b25c1-7a54-4d5c-ec88-ff17fd6e6226"
   },
   "outputs": [
    {
     "data": {
      "text/plain": [
       "array([[ 3.38568565,  5.88345797, -0.01985111]])"
      ]
     },
     "execution_count": 6,
     "metadata": {},
     "output_type": "execute_result"
    }
   ],
   "source": [
    "clf.coef_"
   ]
  },
  {
   "cell_type": "markdown",
   "metadata": {
    "id": "BhmNZEKLIiLN"
   },
   "source": [
    "So, the model gave a large importance to $x_2$ even tough is not causally asssociated to $y$. This opens the model to several vulnerabilities associated to distribution/environment shifts."
   ]
  },
  {
   "cell_type": "markdown",
   "metadata": {
    "id": "cHaEmxbEVraw"
   },
   "source": [
    "Let's try with a Deep Learning model, specifically a **MLP** with 2 layers and 100 hidden units"
   ]
  },
  {
   "cell_type": "code",
   "execution_count": 7,
   "metadata": {
    "colab": {
     "base_uri": "https://localhost:8080/"
    },
    "id": "C0pceAbqVt9X",
    "outputId": "2428060d-5044-4a97-cee3-8b2fa43d0c86"
   },
   "outputs": [
    {
     "name": "stdout",
     "output_type": "stream",
     "text": [
      "Accuracy of the model on env_1=  1.0\n",
      "Accuracy of the model on env_2=  0.713\n",
      "Accuracy of the model on env_3=  0.547\n"
     ]
    }
   ],
   "source": [
    "clf = MLPClassifier(random_state=42, max_iter=700).fit(X[\"env_1\"], y[\"env_1\"])\n",
    "for e in [\"env_1\", \"env_2\", \"env_3\"]:\n",
    "  acc = clf.score(X[e], y[e])\n",
    "  print(f\"Accuracy of the model on {e}= \", acc)"
   ]
  },
  {
   "cell_type": "markdown",
   "metadata": {
    "id": "jWWCNCsF7ywl"
   },
   "source": [
    "Let's inspect again the weights"
   ]
  },
  {
   "cell_type": "code",
   "execution_count": 8,
   "metadata": {
    "colab": {
     "base_uri": "https://localhost:8080/"
    },
    "id": "pSzQs7GiWUlP",
    "outputId": "69932177-5f01-4c8a-bbc3-bd0062d9c914"
   },
   "outputs": [
    {
     "name": "stdout",
     "output_type": "stream",
     "text": [
      "Layers of the network:  2\n",
      "Num of params of first layer:  (3, 100)\n",
      "[[-4.16680079e-10  2.65819350e-01  1.33165195e-01  7.08711959e-02\n",
      "  -1.50842059e-02 -9.99475943e-02  3.75521525e-02  1.59997649e-01\n",
      "  -3.10241391e-02  1.46202248e-01 -6.50734781e-04  2.45924444e-01\n",
      "   1.90099158e-01 -1.00606615e-01 -1.72595427e-01 -3.32581201e-03\n",
      "  -1.15235761e-07  4.29178214e-02  9.36066009e-02 -1.31721312e-01\n",
      "   8.93770802e-02 -6.24034204e-02  3.19306382e-02 -9.76831014e-10\n",
      "   3.82997391e-02  2.21005562e-01 -1.07960862e-01  9.30508792e-02\n",
      "   2.48610796e-02 -4.28500690e-04  2.43072335e-02 -7.61906644e-02\n",
      "  -3.09254789e-04  1.92429421e-01  2.14695486e-01  1.79954410e-01\n",
      "   4.51944474e-03  1.60015401e-02  1.16094101e-01  1.21072248e-14\n",
      "  -2.18219138e-01  3.23108410e-02 -2.42251354e-02  1.55037236e-01\n",
      "  -1.21314975e-06  9.14858644e-02 -4.49406049e-02  1.00819739e-01\n",
      "   1.69624948e-02 -1.92149866e-02  2.59761115e-01  9.92340312e-02\n",
      "   1.66180228e-01  2.27353889e-01  1.02659080e-02  1.20733002e-01\n",
      "  -5.05345453e-02 -4.81583750e-02 -2.14459504e-02  3.11081363e-02\n",
      "   1.74835561e-02  1.58711462e-02  2.26799380e-01 -9.51009172e-03\n",
      "  -1.63582290e-01  2.84459567e-02 -4.24922143e-02  1.59774457e-01\n",
      "  -2.59433910e-04  2.66856085e-01  1.14090263e-01 -1.20026197e-05\n",
      "  -8.15801759e-04  1.68414193e-01  2.00925081e-01  1.28639026e-01\n",
      "   1.09911591e-01 -2.61915696e-04  1.87148892e-02 -1.11337408e-04\n",
      "   2.05414404e-01 -4.38398354e-03 -2.90890887e-02 -4.47605598e-03\n",
      "  -9.48090858e-02 -5.89246106e-02  9.86152128e-02  3.79801249e-02\n",
      "   2.11478097e-01 -5.18989050e-02  1.23923388e-02  2.06625318e-01\n",
      "   1.14874980e-01  1.68258907e-02  1.57562335e-01 -1.16962776e-02\n",
      "   7.17031268e-02 -2.79002877e-02 -6.81091275e-02 -6.21992560e-02]\n",
      " [-5.48774587e-04  3.48415072e-01 -6.25865322e-01  2.73718998e-01\n",
      "  -5.86079643e-01 -2.00990026e-03 -6.27262843e-01 -9.61935469e-02\n",
      "  -8.61228423e-02 -5.66407447e-01 -2.63164281e-07  7.83233515e-02\n",
      "   4.97595429e-01  7.25949350e-05  5.36935562e-02 -6.59487186e-01\n",
      "   1.29638850e-05 -4.93953523e-01  5.46824558e-01  5.23111943e-02\n",
      "   4.71739102e-01  1.77113386e-04 -5.97529425e-01 -1.26524764e-04\n",
      "  -4.92373715e-01  4.42887687e-01 -2.12337472e-01  4.74755097e-01\n",
      "  -5.63303140e-01  8.81018912e-19 -3.15204929e-01 -5.88880246e-05\n",
      "  -1.01788558e-04 -3.39137610e-01  3.81214024e-02  2.26283136e-01\n",
      "  -3.65207573e-01 -5.37555079e-01  2.28053514e-01  5.77577958e-04\n",
      "   3.77908004e-02  1.13788347e-01 -5.07876114e-01 -4.40405446e-01\n",
      "  -3.42139709e-07 -1.66224379e-02  1.48508756e-04  3.42426597e-01\n",
      "  -5.49272535e-01 -5.16666968e-01  5.03309464e-01 -5.07468490e-01\n",
      "  -5.12704609e-01  2.83827050e-01  1.98572647e-01 -5.89626191e-01\n",
      "  -3.83680493e-01 -4.10582377e-01 -5.33526089e-01 -6.17739537e-01\n",
      "  -4.22527869e-01  5.75204264e-01  3.81289712e-01 -9.04013803e-16\n",
      "  -1.63116520e-01  1.17519074e-01 -4.87803947e-01  6.10749301e-02\n",
      "  -4.71239908e-04  3.24867132e-01 -1.36132665e-01 -6.91775226e-04\n",
      "  -1.13501623e-19  9.43075853e-02  5.36031001e-01  7.62650064e-02\n",
      "  -1.50133609e-01 -9.97610051e-11  5.20020996e-01 -6.72201629e-05\n",
      "   2.44397681e-01 -1.52916029e-01  1.77694795e-02 -7.72037541e-01\n",
      "  -7.49345685e-02  2.23757372e-02 -4.17935454e-02 -2.59231399e-01\n",
      "   2.82178655e-01 -1.02953480e-01 -6.40390238e-01  5.50079484e-01\n",
      "   1.44566991e-02 -2.52928733e-01 -6.15989553e-01 -4.22592128e-01\n",
      "   5.65754897e-01  1.25640747e-01  1.26320362e-04  1.24055769e-05]\n",
      " [ 2.18051343e-09 -1.58537711e-01 -1.27154782e-01  1.91367401e-01\n",
      "   4.96631107e-04 -1.45598416e-01  1.27368795e-02  9.07099528e-02\n",
      "  -2.64807391e-01 -8.62663428e-02  4.31272864e-16  8.54779456e-02\n",
      "   7.82651049e-02 -7.10956573e-02  8.28510462e-02  4.41765939e-04\n",
      "  -2.93952865e-08  1.17181275e-01  1.69101350e-01  1.33734992e-01\n",
      "   8.99999495e-02 -6.68520471e-03 -4.15949712e-02 -8.52630942e-10\n",
      "  -4.18239927e-02 -3.55729942e-02  2.96454983e-01  2.27299175e-02\n",
      "   1.75360848e-01  7.58819614e-10  1.41211732e-01 -9.47418755e-03\n",
      "   5.85751358e-14 -1.09720460e-03 -1.28574959e-01  1.16393633e-01\n",
      "  -5.06248853e-02  9.36659063e-03  7.42723885e-02 -2.33484008e-05\n",
      "   2.40991382e-01  2.08160170e-01  2.91584245e-01 -8.37287856e-02\n",
      "  -7.03744199e-04  1.92761397e-01 -1.81277131e-02  2.44956274e-01\n",
      "   2.10177138e-01  2.36408850e-01 -8.99268596e-02 -1.06082429e-01\n",
      "   1.47779358e-01 -6.93639611e-02 -1.84773266e-01 -3.37516605e-02\n",
      "   3.22994351e-01  1.13922980e-01  9.22180276e-03 -3.66721489e-02\n",
      "   8.11099664e-02  2.75819679e-01 -8.70886279e-02 -3.32546621e-04\n",
      "   1.16374392e-01  1.58190031e-01  1.52569458e-01  8.46721468e-02\n",
      "  -1.89406262e-09 -8.95006958e-02  1.60738258e-01  1.58873988e-05\n",
      "   7.51113595e-05  1.89165419e-01  9.24619721e-02 -8.11011747e-03\n",
      "   1.50915546e-01  4.40045876e-09  1.25233209e-01  1.00182482e-05\n",
      "   1.98253237e-01 -1.14345156e-01 -3.12727717e-03  8.09346962e-03\n",
      "   3.20359914e-02 -1.45264037e-01 -4.48533470e-04  1.77652915e-02\n",
      "  -1.04257799e-01  4.70256709e-03 -4.12050010e-02 -7.86289167e-02\n",
      "   1.75600499e-01 -4.94992165e-02 -1.39001841e-01  6.04106686e-03\n",
      "   1.84011448e-01 -1.09967292e-03 -6.35224007e-03 -4.89984582e-02]]\n"
     ]
    }
   ],
   "source": [
    "Ws = clf.coefs_\n",
    "print(\"Layers of the network: \", len(Ws))\n",
    "print(\"Num of params of first layer: \", Ws[0].shape)\n",
    "print(Ws[0])"
   ]
  },
  {
   "cell_type": "markdown",
   "metadata": {
    "id": "1W5Tbeg-IyJG"
   },
   "source": [
    "With this deep learning model, even if failry shallow, we can't assess the goodness of the model by inspewcting the parameters, since theiy are simply too many."
   ]
  }
 ],
 "metadata": {
  "colab": {
   "provenance": []
  },
  "kernelspec": {
   "display_name": "env",
   "language": "python",
   "name": "python3"
  },
  "language_info": {
   "codemirror_mode": {
    "name": "ipython",
    "version": 3
   },
   "file_extension": ".py",
   "mimetype": "text/x-python",
   "name": "python",
   "nbconvert_exporter": "python",
   "pygments_lexer": "ipython3",
   "version": "3.10.11"
  }
 },
 "nbformat": 4,
 "nbformat_minor": 1
}
